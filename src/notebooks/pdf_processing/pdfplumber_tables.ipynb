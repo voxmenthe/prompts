{
 "cells": [
  {
   "cell_type": "code",
   "execution_count": 3,
   "metadata": {},
   "outputs": [],
   "source": [
    "#!pip install pdfplumber"
   ]
  },
  {
   "cell_type": "code",
   "execution_count": 4,
   "metadata": {},
   "outputs": [],
   "source": [
    "import pdfplumber\n",
    "import pandas as pd\n",
    "from PIL import Image"
   ]
  },
  {
   "cell_type": "code",
   "execution_count": 5,
   "metadata": {},
   "outputs": [
    {
     "name": "stdout",
     "output_type": "stream",
     "text": [
      "\u001b[31mReFTReasoningwithReinforcedFineTuning2401.08967v2.pdf\u001b[m\u001b[m\n"
     ]
    }
   ],
   "source": [
    "!ls *.pdf"
   ]
  },
  {
   "cell_type": "code",
   "execution_count": 6,
   "metadata": {},
   "outputs": [],
   "source": [
    "fname = 'ReFTReasoningwithReinforcedFineTuning2401.08967v2.pdf'\n",
    "pdf = pdfplumber.open(fname)"
   ]
  },
  {
   "cell_type": "code",
   "execution_count": 11,
   "metadata": {},
   "outputs": [
    {
     "name": "stdout",
     "output_type": "stream",
     "text": [
      "[]\n",
      "[]\n",
      "[]\n",
      "[]\n",
      "[]\n",
      "[[['CC))119988,'], ['']]]\n",
      "[]\n",
      "[[['', '', None, '', '', '', ''], ['', '', None, '', '', '', ''], ['', '', None, '', '', '', ''], ['', '', None, 'ActualD', 'ata', '', ''], [None, None, '', None, None, None, None], ['', '', '', '10-point', 'Smooth', 'Moving', 'Average']], [['', '', '', '', '', ''], ['', '', '', '', '', ''], ['', '', '', '', '', '']], [['', '', '', '', '', ''], ['', '', '', '', '', ''], ['', '', '', '', '', ''], ['', '', '', '', '', ''], ['', '', '', '', '', '']]]\n",
      "[[['', '', '', None, '', '', ''], ['', '', '', None, '', '', ''], ['', '', '', None, '', '', ''], [None, None, None, '', '', '', ''], ['', '', '', '', 'ReF\\nReF\\nReF', 'T\\nwarm-u\\nT\\nwarm-u\\nT\\nwarm-u', 'p_ep.=1\\np_ep.=2\\np_ep.=3'], ['', '', '', '', 'ReF\\nSFT', 'T\\nwarm-u', 'p_ep.=4'], ['', '', '', None, '', '', '']]]\n",
      "[]\n",
      "[]\n",
      "[]\n",
      "[]\n",
      "[]\n",
      "[[['ExamplefromGSM8K'], ['Question:\\nIf Sam and Harry have 100 feet of fence between them, and they agree to split it with Harry\\ngetting 60 feet more than Sam, how much is left over for Sam?']], [['SFT'], [''], ['# Epoch 1\\ndef solution():\\nfence_initial = 100\\nfence_difference = 60\\nfence_harry = fence_initial + fence_difference\\nfence_sam = fence_harry - fence_difference\\nfence_left = fence_initial - fence_sam\\nresult = fence_left\\nreturn result'], [''], ['# Epoch 3\\ndef solution():\\nfence_initial = 100\\nharry_feet = 60\\nsam_feet = harry_feet - 1\\nsam_feet = sam_feet * 2\\nsam_feet = sam_feet / 2\\nsam_feet = sam_feet\\nresult = sam_feet\\nreturn result'], [''], ['# Epoch 5\\ndef solution():\\nfence_length = 100\\nharry_extra_feet = 60\\nharry_feet = fence_length / 2 +\\nharry_extra_feet\\nsam_feet = fence_length / 2\\nleft_over_feet = fence_length - harry_feet -\\nsam_feet\\nresult = left_over_feet\\nreturn result'], ['']], [['ReFT'], [''], ['# Epoch 1\\ndef solution():\\nfence_total = 100\\nfence_harry = fence_total - 60\\nfence_sam = fence_harry - 60\\nfence_left = fence_total - fence_harry -\\nfence_sam\\nresult = fence_left\\nreturn result'], [''], ['# Epoch 3\\ndef solution():\\nfence_total = 100\\nsam_fence = (fence_total / 2) - 60\\nresult = sam_fence\\nreturn result'], [''], ['# Epoch 5\\ndef solution():\\nfence_total = 100\\nsam_fence = (fence_total - 60) / 2\\nresult = sam_fence\\nreturn result'], ['']]]\n"
     ]
    }
   ],
   "source": [
    "for p in pdf.pages:\n",
    "    print(p.extract_tables())\n",
    "\n",
    "# p0 = pdf.pages[0]\n",
    "# p0.extract_tables()\n"
   ]
  },
  {
   "cell_type": "code",
   "execution_count": 10,
   "metadata": {},
   "outputs": [
    {
     "data": {
      "text/plain": [
       "[<Page:1>,\n",
       " <Page:2>,\n",
       " <Page:3>,\n",
       " <Page:4>,\n",
       " <Page:5>,\n",
       " <Page:6>,\n",
       " <Page:7>,\n",
       " <Page:8>,\n",
       " <Page:9>,\n",
       " <Page:10>,\n",
       " <Page:11>,\n",
       " <Page:12>,\n",
       " <Page:13>,\n",
       " <Page:14>,\n",
       " <Page:15>]"
      ]
     },
     "execution_count": 10,
     "metadata": {},
     "output_type": "execute_result"
    }
   ],
   "source": [
    "pdf.pages"
   ]
  },
  {
   "cell_type": "code",
   "execution_count": null,
   "metadata": {},
   "outputs": [],
   "source": []
  }
 ],
 "metadata": {
  "kernelspec": {
   "display_name": "py3124",
   "language": "python",
   "name": "python3"
  },
  "language_info": {
   "codemirror_mode": {
    "name": "ipython",
    "version": 3
   },
   "file_extension": ".py",
   "mimetype": "text/x-python",
   "name": "python",
   "nbconvert_exporter": "python",
   "pygments_lexer": "ipython3",
   "version": "3.12.4"
  }
 },
 "nbformat": 4,
 "nbformat_minor": 2
}
