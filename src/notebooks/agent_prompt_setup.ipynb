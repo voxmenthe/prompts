{
 "cells": [
  {
   "cell_type": "code",
   "execution_count": 2,
   "metadata": {},
   "outputs": [],
   "source": [
    "from agents_personas.personas import mechanical_engineer_roles"
   ]
  },
  {
   "cell_type": "code",
   "execution_count": 3,
   "metadata": {},
   "outputs": [
    {
     "name": "stdout",
     "output_type": "stream",
     "text": [
      "dict_keys(['cad_design_expert', 'manufacturing_process_specialist', 'materials_scientist', 'structural_analysis_expert', 'ergonomics_specialist', 'sustainable_design_advocate', 'mechatronics_integrator', 'design_for_assembly_expert', 'biomimicry_specialist', 'robotics_engineer', 'thermodynamics_expert', 'aerospace_engineer', 'human-centered_design_specialist', 'acoustics_engineer', 'reliability_engineer', 'micro/nano-scale_engineer', 'virtual_reality_design_specialist', 'design_for_additive_manufacturing_expert', 'regulatory_compliance_specialist', 'compressibility_design_expert', 'miniaturization_specialist', 'mental_rotation_genius', 'button_design_expert', 'out_of_the_box_thinker', 'project_manager', 'product_manager', 'healthcare_systems_expert', 'dermatology_specialist', 'medical_injectables_expert', 'patient_safety_specialist', 'human_factors_engineer', 'drug_delivery_systems_engineer', 'sterilization_expert', 'regulatory_affairs_specialist', 'quality_assurance_engineer', 'precision_mechanics_expert'])\n"
     ]
    }
   ],
   "source": [
    "print(mechanical_engineer_roles.keys())\n"
   ]
  },
  {
   "cell_type": "code",
   "execution_count": null,
   "metadata": {},
   "outputs": [],
   "source": []
  }
 ],
 "metadata": {
  "kernelspec": {
   "display_name": "py3124",
   "language": "python",
   "name": "python3"
  },
  "language_info": {
   "codemirror_mode": {
    "name": "ipython",
    "version": 3
   },
   "file_extension": ".py",
   "mimetype": "text/x-python",
   "name": "python",
   "nbconvert_exporter": "python",
   "pygments_lexer": "ipython3",
   "version": "3.12.4"
  }
 },
 "nbformat": 4,
 "nbformat_minor": 2
}
